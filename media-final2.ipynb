{
 "cells": [
  {
   "cell_type": "markdown",
   "metadata": {},
   "source": [
    "## Media Literacy: Using Fastai to teach K-12 students about Identity, privilage, and the importance of diversity"
   ]
  },
  {
   "cell_type": "code",
   "execution_count": null,
   "metadata": {},
   "outputs": [],
   "source": [
    "# With the changing"
   ]
  },
  {
   "cell_type": "code",
   "execution_count": null,
   "metadata": {},
   "outputs": [],
   "source": [
    "# Media literacy is defined as \n"
   ]
  },
  {
   "cell_type": "markdown",
   "metadata": {},
   "source": [
    "# Installing libraries"
   ]
  },
  {
   "cell_type": "code",
   "execution_count": 2,
   "metadata": {},
   "outputs": [
    {
     "name": "stdout",
     "output_type": "stream",
     "text": [
      "\r\n",
      "\r\n",
      "\r\n",
      "E: Unable to locate package python3-pydot\r\n",
      "E: Unable to locate package graphviz\r\n"
     ]
    }
   ],
   "source": [
    "#hide\n",
    "#hide_output\n",
    "!apt-get install python3-pydot graphviz"
   ]
  },
  {
   "cell_type": "code",
   "execution_count": 3,
   "metadata": {
    "collapsed": true
   },
   "outputs": [
    {
     "name": "stdout",
     "output_type": "stream",
     "text": [
      "Requirement already satisfied: fastai2 in /opt/conda/envs/fastai/lib/python3.7/site-packages (0.0.12)\n",
      "Requirement already satisfied: matplotlib in /opt/conda/envs/fastai/lib/python3.7/site-packages (from fastai2) (3.2.0)\n",
      "Requirement already satisfied: scikit-learn in /opt/conda/envs/fastai/lib/python3.7/site-packages (from fastai2) (0.22.2.post1)\n",
      "Requirement already satisfied: torchvision>=0.5 in /opt/conda/envs/fastai/lib/python3.7/site-packages (from fastai2) (0.5.0)\n",
      "Requirement already satisfied: pillow in /opt/conda/envs/fastai/lib/python3.7/site-packages (from fastai2) (7.0.0)\n",
      "Requirement already satisfied: requests in /opt/conda/envs/fastai/lib/python3.7/site-packages (from fastai2) (2.23.0)\n",
      "Requirement already satisfied: spacy in /opt/conda/envs/fastai/lib/python3.7/site-packages (from fastai2) (2.2.3)\n",
      "Requirement already satisfied: fastprogress>=0.1.22 in /opt/conda/envs/fastai/lib/python3.7/site-packages (from fastai2) (0.2.2)\n",
      "Requirement already satisfied: torch>=1.3.0 in /opt/conda/envs/fastai/lib/python3.7/site-packages (from fastai2) (1.4.0)\n",
      "Requirement already satisfied: scipy in /opt/conda/envs/fastai/lib/python3.7/site-packages (from fastai2) (1.4.1)\n",
      "Requirement already satisfied: pyyaml in /opt/conda/envs/fastai/lib/python3.7/site-packages (from fastai2) (5.3)\n",
      "Requirement already satisfied: pandas in /opt/conda/envs/fastai/lib/python3.7/site-packages (from fastai2) (1.0.2)\n",
      "Requirement already satisfied: fastcore in /opt/conda/envs/fastai/lib/python3.7/site-packages (from fastai2) (0.1.15)\n",
      "Requirement already satisfied: kiwisolver>=1.0.1 in /opt/conda/envs/fastai/lib/python3.7/site-packages (from matplotlib->fastai2) (1.1.0)\n",
      "Requirement already satisfied: cycler>=0.10 in /opt/conda/envs/fastai/lib/python3.7/site-packages (from matplotlib->fastai2) (0.10.0)\n",
      "Requirement already satisfied: python-dateutil>=2.1 in /opt/conda/envs/fastai/lib/python3.7/site-packages (from matplotlib->fastai2) (2.8.1)\n",
      "Requirement already satisfied: pyparsing!=2.0.4,!=2.1.2,!=2.1.6,>=2.0.1 in /opt/conda/envs/fastai/lib/python3.7/site-packages (from matplotlib->fastai2) (2.4.6)\n",
      "Requirement already satisfied: numpy>=1.11 in /opt/conda/envs/fastai/lib/python3.7/site-packages (from matplotlib->fastai2) (1.18.1)\n",
      "Requirement already satisfied: joblib>=0.11 in /opt/conda/envs/fastai/lib/python3.7/site-packages (from scikit-learn->fastai2) (0.14.1)\n",
      "Requirement already satisfied: six in /opt/conda/envs/fastai/lib/python3.7/site-packages (from torchvision>=0.5->fastai2) (1.14.0)\n",
      "Requirement already satisfied: chardet<4,>=3.0.2 in /opt/conda/envs/fastai/lib/python3.7/site-packages (from requests->fastai2) (3.0.4)\n",
      "Requirement already satisfied: certifi>=2017.4.17 in /opt/conda/envs/fastai/lib/python3.7/site-packages (from requests->fastai2) (2019.11.28)\n",
      "Requirement already satisfied: urllib3!=1.25.0,!=1.25.1,<1.26,>=1.21.1 in /opt/conda/envs/fastai/lib/python3.7/site-packages (from requests->fastai2) (1.25.7)\n",
      "Requirement already satisfied: idna<3,>=2.5 in /opt/conda/envs/fastai/lib/python3.7/site-packages (from requests->fastai2) (2.9)\n",
      "Requirement already satisfied: blis<0.5.0,>=0.4.0 in /opt/conda/envs/fastai/lib/python3.7/site-packages (from spacy->fastai2) (0.4.1)\n",
      "Requirement already satisfied: murmurhash<1.1.0,>=0.28.0 in /opt/conda/envs/fastai/lib/python3.7/site-packages (from spacy->fastai2) (1.0.0)\n",
      "Requirement already satisfied: wasabi<1.1.0,>=0.4.0 in /opt/conda/envs/fastai/lib/python3.7/site-packages (from spacy->fastai2) (0.6.0)\n",
      "Requirement already satisfied: cymem<2.1.0,>=2.0.2 in /opt/conda/envs/fastai/lib/python3.7/site-packages (from spacy->fastai2) (2.0.3)\n",
      "Requirement already satisfied: srsly<1.1.0,>=0.1.0 in /opt/conda/envs/fastai/lib/python3.7/site-packages (from spacy->fastai2) (1.0.0)\n",
      "Requirement already satisfied: setuptools in /opt/conda/envs/fastai/lib/python3.7/site-packages (from spacy->fastai2) (46.0.0.post20200311)\n",
      "Requirement already satisfied: catalogue<1.1.0,>=0.0.7 in /opt/conda/envs/fastai/lib/python3.7/site-packages (from spacy->fastai2) (1.0.0)\n",
      "Requirement already satisfied: plac<1.2.0,>=0.9.6 in /opt/conda/envs/fastai/lib/python3.7/site-packages (from spacy->fastai2) (0.9.6)\n",
      "Requirement already satisfied: thinc<7.4.0,>=7.3.0 in /opt/conda/envs/fastai/lib/python3.7/site-packages (from spacy->fastai2) (7.3.0)\n",
      "Requirement already satisfied: preshed<3.1.0,>=3.0.2 in /opt/conda/envs/fastai/lib/python3.7/site-packages (from spacy->fastai2) (3.0.2)\n",
      "Requirement already satisfied: pytz>=2017.2 in /opt/conda/envs/fastai/lib/python3.7/site-packages (from pandas->fastai2) (2019.3)\n",
      "Requirement already satisfied: importlib-metadata>=0.20; python_version < \"3.8\" in /opt/conda/envs/fastai/lib/python3.7/site-packages (from catalogue<1.1.0,>=0.0.7->spacy->fastai2) (1.5.0)\n",
      "Requirement already satisfied: tqdm<5.0.0,>=4.10.0 in /opt/conda/envs/fastai/lib/python3.7/site-packages (from thinc<7.4.0,>=7.3.0->spacy->fastai2) (4.43.0)\n",
      "Requirement already satisfied: zipp>=0.5 in /opt/conda/envs/fastai/lib/python3.7/site-packages (from importlib-metadata>=0.20; python_version < \"3.8\"->catalogue<1.1.0,>=0.0.7->spacy->fastai2) (3.1.0)\n",
      "Requirement already satisfied: azure-cognitiveservices-search-imagesearch in /opt/conda/envs/fastai/lib/python3.7/site-packages (2.0.0)\n",
      "Requirement already satisfied: msrestazure<2.0.0,>=0.4.32 in /opt/conda/envs/fastai/lib/python3.7/site-packages (from azure-cognitiveservices-search-imagesearch) (0.6.3)\n",
      "Requirement already satisfied: msrest>=0.5.0 in /opt/conda/envs/fastai/lib/python3.7/site-packages (from azure-cognitiveservices-search-imagesearch) (0.6.11)\n",
      "Requirement already satisfied: azure-common~=1.1 in /opt/conda/envs/fastai/lib/python3.7/site-packages (from azure-cognitiveservices-search-imagesearch) (1.1.25)\n",
      "Requirement already satisfied: adal<2.0.0,>=0.6.0 in /opt/conda/envs/fastai/lib/python3.7/site-packages (from msrestazure<2.0.0,>=0.4.32->azure-cognitiveservices-search-imagesearch) (1.2.2)\n",
      "Requirement already satisfied: certifi>=2017.4.17 in /opt/conda/envs/fastai/lib/python3.7/site-packages (from msrest>=0.5.0->azure-cognitiveservices-search-imagesearch) (2019.11.28)\n",
      "Requirement already satisfied: requests~=2.16 in /opt/conda/envs/fastai/lib/python3.7/site-packages (from msrest>=0.5.0->azure-cognitiveservices-search-imagesearch) (2.23.0)\n",
      "Requirement already satisfied: requests-oauthlib>=0.5.0 in /opt/conda/envs/fastai/lib/python3.7/site-packages (from msrest>=0.5.0->azure-cognitiveservices-search-imagesearch) (1.3.0)\n",
      "Requirement already satisfied: isodate>=0.6.0 in /opt/conda/envs/fastai/lib/python3.7/site-packages (from msrest>=0.5.0->azure-cognitiveservices-search-imagesearch) (0.6.0)\n",
      "Requirement already satisfied: PyJWT>=1.0.0 in /opt/conda/envs/fastai/lib/python3.7/site-packages (from adal<2.0.0,>=0.6.0->msrestazure<2.0.0,>=0.4.32->azure-cognitiveservices-search-imagesearch) (1.7.1)\n",
      "Requirement already satisfied: python-dateutil>=2.1.0 in /opt/conda/envs/fastai/lib/python3.7/site-packages (from adal<2.0.0,>=0.6.0->msrestazure<2.0.0,>=0.4.32->azure-cognitiveservices-search-imagesearch) (2.8.1)\n",
      "Requirement already satisfied: cryptography>=1.1.0 in /opt/conda/envs/fastai/lib/python3.7/site-packages (from adal<2.0.0,>=0.6.0->msrestazure<2.0.0,>=0.4.32->azure-cognitiveservices-search-imagesearch) (2.8)\n",
      "Requirement already satisfied: idna<3,>=2.5 in /opt/conda/envs/fastai/lib/python3.7/site-packages (from requests~=2.16->msrest>=0.5.0->azure-cognitiveservices-search-imagesearch) (2.9)\n",
      "Requirement already satisfied: chardet<4,>=3.0.2 in /opt/conda/envs/fastai/lib/python3.7/site-packages (from requests~=2.16->msrest>=0.5.0->azure-cognitiveservices-search-imagesearch) (3.0.4)\n",
      "Requirement already satisfied: urllib3!=1.25.0,!=1.25.1,<1.26,>=1.21.1 in /opt/conda/envs/fastai/lib/python3.7/site-packages (from requests~=2.16->msrest>=0.5.0->azure-cognitiveservices-search-imagesearch) (1.25.7)\n",
      "Requirement already satisfied: oauthlib>=3.0.0 in /opt/conda/envs/fastai/lib/python3.7/site-packages (from requests-oauthlib>=0.5.0->msrest>=0.5.0->azure-cognitiveservices-search-imagesearch) (3.1.0)\n",
      "Requirement already satisfied: six in /opt/conda/envs/fastai/lib/python3.7/site-packages (from isodate>=0.6.0->msrest>=0.5.0->azure-cognitiveservices-search-imagesearch) (1.14.0)\n",
      "Requirement already satisfied: cffi!=1.11.3,>=1.8 in /opt/conda/envs/fastai/lib/python3.7/site-packages (from cryptography>=1.1.0->adal<2.0.0,>=0.6.0->msrestazure<2.0.0,>=0.4.32->azure-cognitiveservices-search-imagesearch) (1.14.0)\n",
      "Requirement already satisfied: pycparser in /opt/conda/envs/fastai/lib/python3.7/site-packages (from cffi!=1.11.3,>=1.8->cryptography>=1.1.0->adal<2.0.0,>=0.6.0->msrestazure<2.0.0,>=0.4.32->azure-cognitiveservices-search-imagesearch) (2.20)\n",
      "Requirement already satisfied: utils in /opt/conda/envs/fastai/lib/python3.7/site-packages (1.0.1)\n",
      "Requirement already satisfied: Pillow in /opt/conda/envs/fastai/lib/python3.7/site-packages (7.0.0)\n",
      "Requirement already satisfied: webp in /opt/conda/envs/fastai/lib/python3.7/site-packages (0.1.0a15)\n",
      "Requirement already satisfied: numpy>=1.0.0 in /opt/conda/envs/fastai/lib/python3.7/site-packages (from webp) (1.18.1)\n",
      "Requirement already satisfied: Pillow>=4.0.0 in /opt/conda/envs/fastai/lib/python3.7/site-packages (from webp) (7.0.0)\n",
      "Requirement already satisfied: cffi>=1.0.0 in /opt/conda/envs/fastai/lib/python3.7/site-packages (from webp) (1.14.0)\n",
      "Requirement already satisfied: pycparser in /opt/conda/envs/fastai/lib/python3.7/site-packages (from cffi>=1.0.0->webp) (2.20)\n",
      "Requirement already satisfied: ipywidgets in /opt/conda/envs/fastai/lib/python3.7/site-packages (7.5.1)\n",
      "Requirement already satisfied: traitlets>=4.3.1 in /opt/conda/envs/fastai/lib/python3.7/site-packages (from ipywidgets) (4.3.3)\n",
      "Requirement already satisfied: ipython>=4.0.0; python_version >= \"3.3\" in /opt/conda/envs/fastai/lib/python3.7/site-packages (from ipywidgets) (7.13.0)\n",
      "Requirement already satisfied: nbformat>=4.2.0 in /opt/conda/envs/fastai/lib/python3.7/site-packages (from ipywidgets) (5.0.4)\n",
      "Requirement already satisfied: widgetsnbextension~=3.5.0 in /opt/conda/envs/fastai/lib/python3.7/site-packages (from ipywidgets) (3.5.1)\n",
      "Requirement already satisfied: ipykernel>=4.5.1 in /opt/conda/envs/fastai/lib/python3.7/site-packages (from ipywidgets) (5.1.4)\n",
      "Requirement already satisfied: six in /opt/conda/envs/fastai/lib/python3.7/site-packages (from traitlets>=4.3.1->ipywidgets) (1.14.0)\n",
      "Requirement already satisfied: decorator in /opt/conda/envs/fastai/lib/python3.7/site-packages (from traitlets>=4.3.1->ipywidgets) (4.4.2)\n",
      "Requirement already satisfied: ipython-genutils in /opt/conda/envs/fastai/lib/python3.7/site-packages (from traitlets>=4.3.1->ipywidgets) (0.2.0)\n",
      "Requirement already satisfied: prompt-toolkit!=3.0.0,!=3.0.1,<3.1.0,>=2.0.0 in /opt/conda/envs/fastai/lib/python3.7/site-packages (from ipython>=4.0.0; python_version >= \"3.3\"->ipywidgets) (3.0.4)\n",
      "Requirement already satisfied: pygments in /opt/conda/envs/fastai/lib/python3.7/site-packages (from ipython>=4.0.0; python_version >= \"3.3\"->ipywidgets) (2.6.1)\n",
      "Requirement already satisfied: pickleshare in /opt/conda/envs/fastai/lib/python3.7/site-packages (from ipython>=4.0.0; python_version >= \"3.3\"->ipywidgets) (0.7.5)\n",
      "Requirement already satisfied: pexpect; sys_platform != \"win32\" in /opt/conda/envs/fastai/lib/python3.7/site-packages (from ipython>=4.0.0; python_version >= \"3.3\"->ipywidgets) (4.8.0)\n",
      "Requirement already satisfied: jedi>=0.10 in /opt/conda/envs/fastai/lib/python3.7/site-packages (from ipython>=4.0.0; python_version >= \"3.3\"->ipywidgets) (0.16.0)\n",
      "Requirement already satisfied: backcall in /opt/conda/envs/fastai/lib/python3.7/site-packages (from ipython>=4.0.0; python_version >= \"3.3\"->ipywidgets) (0.1.0)\n",
      "Requirement already satisfied: setuptools>=18.5 in /opt/conda/envs/fastai/lib/python3.7/site-packages (from ipython>=4.0.0; python_version >= \"3.3\"->ipywidgets) (46.0.0.post20200311)\n",
      "Requirement already satisfied: jupyter-core in /opt/conda/envs/fastai/lib/python3.7/site-packages (from nbformat>=4.2.0->ipywidgets) (4.6.3)\n",
      "Requirement already satisfied: jsonschema!=2.5.0,>=2.4 in /opt/conda/envs/fastai/lib/python3.7/site-packages (from nbformat>=4.2.0->ipywidgets) (3.2.0)\n",
      "Requirement already satisfied: notebook>=4.4.1 in /opt/conda/envs/fastai/lib/python3.7/site-packages (from widgetsnbextension~=3.5.0->ipywidgets) (6.0.3)\n",
      "Requirement already satisfied: jupyter-client in /opt/conda/envs/fastai/lib/python3.7/site-packages (from ipykernel>=4.5.1->ipywidgets) (6.0.0)\n",
      "Requirement already satisfied: tornado>=4.2 in /opt/conda/envs/fastai/lib/python3.7/site-packages (from ipykernel>=4.5.1->ipywidgets) (6.0.4)\n",
      "Requirement already satisfied: wcwidth in /opt/conda/envs/fastai/lib/python3.7/site-packages (from prompt-toolkit!=3.0.0,!=3.0.1,<3.1.0,>=2.0.0->ipython>=4.0.0; python_version >= \"3.3\"->ipywidgets) (0.1.8)\n",
      "Requirement already satisfied: ptyprocess>=0.5 in /opt/conda/envs/fastai/lib/python3.7/site-packages (from pexpect; sys_platform != \"win32\"->ipython>=4.0.0; python_version >= \"3.3\"->ipywidgets) (0.6.0)\n",
      "Requirement already satisfied: parso>=0.5.2 in /opt/conda/envs/fastai/lib/python3.7/site-packages (from jedi>=0.10->ipython>=4.0.0; python_version >= \"3.3\"->ipywidgets) (0.6.2)\n",
      "Requirement already satisfied: attrs>=17.4.0 in /opt/conda/envs/fastai/lib/python3.7/site-packages (from jsonschema!=2.5.0,>=2.4->nbformat>=4.2.0->ipywidgets) (19.3.0)\n",
      "Requirement already satisfied: pyrsistent>=0.14.0 in /opt/conda/envs/fastai/lib/python3.7/site-packages (from jsonschema!=2.5.0,>=2.4->nbformat>=4.2.0->ipywidgets) (0.15.7)\n",
      "Requirement already satisfied: importlib-metadata; python_version < \"3.8\" in /opt/conda/envs/fastai/lib/python3.7/site-packages (from jsonschema!=2.5.0,>=2.4->nbformat>=4.2.0->ipywidgets) (1.5.0)\n",
      "Requirement already satisfied: nbconvert in /opt/conda/envs/fastai/lib/python3.7/site-packages (from notebook>=4.4.1->widgetsnbextension~=3.5.0->ipywidgets) (5.6.1)\n",
      "Requirement already satisfied: Send2Trash in /opt/conda/envs/fastai/lib/python3.7/site-packages (from notebook>=4.4.1->widgetsnbextension~=3.5.0->ipywidgets) (1.5.0)\n",
      "Requirement already satisfied: pyzmq>=17 in /opt/conda/envs/fastai/lib/python3.7/site-packages (from notebook>=4.4.1->widgetsnbextension~=3.5.0->ipywidgets) (19.0.0)\n",
      "Requirement already satisfied: terminado>=0.8.1 in /opt/conda/envs/fastai/lib/python3.7/site-packages (from notebook>=4.4.1->widgetsnbextension~=3.5.0->ipywidgets) (0.8.3)\n",
      "Requirement already satisfied: prometheus-client in /opt/conda/envs/fastai/lib/python3.7/site-packages (from notebook>=4.4.1->widgetsnbextension~=3.5.0->ipywidgets) (0.7.1)\n",
      "Requirement already satisfied: jinja2 in /opt/conda/envs/fastai/lib/python3.7/site-packages (from notebook>=4.4.1->widgetsnbextension~=3.5.0->ipywidgets) (2.11.1)\n",
      "Requirement already satisfied: python-dateutil>=2.1 in /opt/conda/envs/fastai/lib/python3.7/site-packages (from jupyter-client->ipykernel>=4.5.1->ipywidgets) (2.8.1)\n",
      "Requirement already satisfied: zipp>=0.5 in /opt/conda/envs/fastai/lib/python3.7/site-packages (from importlib-metadata; python_version < \"3.8\"->jsonschema!=2.5.0,>=2.4->nbformat>=4.2.0->ipywidgets) (3.1.0)\n",
      "Requirement already satisfied: pandocfilters>=1.4.1 in /opt/conda/envs/fastai/lib/python3.7/site-packages (from nbconvert->notebook>=4.4.1->widgetsnbextension~=3.5.0->ipywidgets) (1.4.2)\n",
      "Requirement already satisfied: mistune<2,>=0.8.1 in /opt/conda/envs/fastai/lib/python3.7/site-packages (from nbconvert->notebook>=4.4.1->widgetsnbextension~=3.5.0->ipywidgets) (0.8.4)\n",
      "Requirement already satisfied: entrypoints>=0.2.2 in /opt/conda/envs/fastai/lib/python3.7/site-packages (from nbconvert->notebook>=4.4.1->widgetsnbextension~=3.5.0->ipywidgets) (0.3)\n",
      "Requirement already satisfied: testpath in /opt/conda/envs/fastai/lib/python3.7/site-packages (from nbconvert->notebook>=4.4.1->widgetsnbextension~=3.5.0->ipywidgets) (0.4.4)\n",
      "Requirement already satisfied: defusedxml in /opt/conda/envs/fastai/lib/python3.7/site-packages (from nbconvert->notebook>=4.4.1->widgetsnbextension~=3.5.0->ipywidgets) (0.6.0)\n",
      "Requirement already satisfied: bleach in /opt/conda/envs/fastai/lib/python3.7/site-packages (from nbconvert->notebook>=4.4.1->widgetsnbextension~=3.5.0->ipywidgets) (3.1.3)\n",
      "Requirement already satisfied: MarkupSafe>=0.23 in /opt/conda/envs/fastai/lib/python3.7/site-packages (from jinja2->notebook>=4.4.1->widgetsnbextension~=3.5.0->ipywidgets) (1.1.1)\n",
      "Requirement already satisfied: webencodings in /opt/conda/envs/fastai/lib/python3.7/site-packages (from bleach->nbconvert->notebook>=4.4.1->widgetsnbextension~=3.5.0->ipywidgets) (0.5.1)\n",
      "Requirement already satisfied: Voila in /opt/conda/envs/fastai/lib/python3.7/site-packages (0.1.21)\n",
      "Requirement already satisfied: async-generator in /opt/conda/envs/fastai/lib/python3.7/site-packages (from Voila) (1.10)\n",
      "Requirement already satisfied: nbconvert<6,>=5.5.0 in /opt/conda/envs/fastai/lib/python3.7/site-packages (from Voila) (5.6.1)\n",
      "Requirement already satisfied: jupyter-server<0.2.0,>=0.1.0 in /opt/conda/envs/fastai/lib/python3.7/site-packages (from Voila) (0.1.1)\n",
      "Requirement already satisfied: jupyterlab-pygments<0.2,>=0.1.0 in /opt/conda/envs/fastai/lib/python3.7/site-packages (from Voila) (0.1.0)\n",
      "Requirement already satisfied: pygments<3,>=2.4.1 in /opt/conda/envs/fastai/lib/python3.7/site-packages (from Voila) (2.6.1)\n",
      "Requirement already satisfied: mistune<2,>=0.8.1 in /opt/conda/envs/fastai/lib/python3.7/site-packages (from nbconvert<6,>=5.5.0->Voila) (0.8.4)\n",
      "Requirement already satisfied: nbformat>=4.4 in /opt/conda/envs/fastai/lib/python3.7/site-packages (from nbconvert<6,>=5.5.0->Voila) (5.0.4)\n",
      "Requirement already satisfied: entrypoints>=0.2.2 in /opt/conda/envs/fastai/lib/python3.7/site-packages (from nbconvert<6,>=5.5.0->Voila) (0.3)\n",
      "Requirement already satisfied: bleach in /opt/conda/envs/fastai/lib/python3.7/site-packages (from nbconvert<6,>=5.5.0->Voila) (3.1.3)\n",
      "Requirement already satisfied: pandocfilters>=1.4.1 in /opt/conda/envs/fastai/lib/python3.7/site-packages (from nbconvert<6,>=5.5.0->Voila) (1.4.2)\n",
      "Requirement already satisfied: jupyter-core in /opt/conda/envs/fastai/lib/python3.7/site-packages (from nbconvert<6,>=5.5.0->Voila) (4.6.3)\n",
      "Requirement already satisfied: testpath in /opt/conda/envs/fastai/lib/python3.7/site-packages (from nbconvert<6,>=5.5.0->Voila) (0.4.4)\n",
      "Requirement already satisfied: traitlets>=4.2 in /opt/conda/envs/fastai/lib/python3.7/site-packages (from nbconvert<6,>=5.5.0->Voila) (4.3.3)\n",
      "Requirement already satisfied: jinja2>=2.4 in /opt/conda/envs/fastai/lib/python3.7/site-packages (from nbconvert<6,>=5.5.0->Voila) (2.11.1)\n",
      "Requirement already satisfied: defusedxml in /opt/conda/envs/fastai/lib/python3.7/site-packages (from nbconvert<6,>=5.5.0->Voila) (0.6.0)\n",
      "Requirement already satisfied: terminado>=0.8.1 in /opt/conda/envs/fastai/lib/python3.7/site-packages (from jupyter-server<0.2.0,>=0.1.0->Voila) (0.8.3)\n",
      "Requirement already satisfied: ipython-genutils in /opt/conda/envs/fastai/lib/python3.7/site-packages (from jupyter-server<0.2.0,>=0.1.0->Voila) (0.2.0)\n",
      "Requirement already satisfied: jupyter-client>=5.3.1 in /opt/conda/envs/fastai/lib/python3.7/site-packages (from jupyter-server<0.2.0,>=0.1.0->Voila) (6.0.0)\n",
      "Requirement already satisfied: Send2Trash in /opt/conda/envs/fastai/lib/python3.7/site-packages (from jupyter-server<0.2.0,>=0.1.0->Voila) (1.5.0)\n",
      "Requirement already satisfied: prometheus-client in /opt/conda/envs/fastai/lib/python3.7/site-packages (from jupyter-server<0.2.0,>=0.1.0->Voila) (0.7.1)\n",
      "Requirement already satisfied: ipykernel in /opt/conda/envs/fastai/lib/python3.7/site-packages (from jupyter-server<0.2.0,>=0.1.0->Voila) (5.1.4)\n",
      "Requirement already satisfied: pyzmq>=17 in /opt/conda/envs/fastai/lib/python3.7/site-packages (from jupyter-server<0.2.0,>=0.1.0->Voila) (19.0.0)\n",
      "Requirement already satisfied: tornado>=4 in /opt/conda/envs/fastai/lib/python3.7/site-packages (from jupyter-server<0.2.0,>=0.1.0->Voila) (6.0.4)\n",
      "Requirement already satisfied: jsonschema!=2.5.0,>=2.4 in /opt/conda/envs/fastai/lib/python3.7/site-packages (from nbformat>=4.4->nbconvert<6,>=5.5.0->Voila) (3.2.0)\n",
      "Requirement already satisfied: six>=1.9.0 in /opt/conda/envs/fastai/lib/python3.7/site-packages (from bleach->nbconvert<6,>=5.5.0->Voila) (1.14.0)\n",
      "Requirement already satisfied: webencodings in /opt/conda/envs/fastai/lib/python3.7/site-packages (from bleach->nbconvert<6,>=5.5.0->Voila) (0.5.1)\n",
      "Requirement already satisfied: decorator in /opt/conda/envs/fastai/lib/python3.7/site-packages (from traitlets>=4.2->nbconvert<6,>=5.5.0->Voila) (4.4.2)\n",
      "Requirement already satisfied: MarkupSafe>=0.23 in /opt/conda/envs/fastai/lib/python3.7/site-packages (from jinja2>=2.4->nbconvert<6,>=5.5.0->Voila) (1.1.1)\n",
      "Requirement already satisfied: python-dateutil>=2.1 in /opt/conda/envs/fastai/lib/python3.7/site-packages (from jupyter-client>=5.3.1->jupyter-server<0.2.0,>=0.1.0->Voila) (2.8.1)\n",
      "Requirement already satisfied: ipython>=5.0.0 in /opt/conda/envs/fastai/lib/python3.7/site-packages (from ipykernel->jupyter-server<0.2.0,>=0.1.0->Voila) (7.13.0)\n",
      "Requirement already satisfied: setuptools in /opt/conda/envs/fastai/lib/python3.7/site-packages (from jsonschema!=2.5.0,>=2.4->nbformat>=4.4->nbconvert<6,>=5.5.0->Voila) (46.0.0.post20200311)\n",
      "Requirement already satisfied: attrs>=17.4.0 in /opt/conda/envs/fastai/lib/python3.7/site-packages (from jsonschema!=2.5.0,>=2.4->nbformat>=4.4->nbconvert<6,>=5.5.0->Voila) (19.3.0)\n",
      "Requirement already satisfied: pyrsistent>=0.14.0 in /opt/conda/envs/fastai/lib/python3.7/site-packages (from jsonschema!=2.5.0,>=2.4->nbformat>=4.4->nbconvert<6,>=5.5.0->Voila) (0.15.7)\n",
      "Requirement already satisfied: importlib-metadata; python_version < \"3.8\" in /opt/conda/envs/fastai/lib/python3.7/site-packages (from jsonschema!=2.5.0,>=2.4->nbformat>=4.4->nbconvert<6,>=5.5.0->Voila) (1.5.0)\n",
      "Requirement already satisfied: pexpect; sys_platform != \"win32\" in /opt/conda/envs/fastai/lib/python3.7/site-packages (from ipython>=5.0.0->ipykernel->jupyter-server<0.2.0,>=0.1.0->Voila) (4.8.0)\n",
      "Requirement already satisfied: prompt-toolkit!=3.0.0,!=3.0.1,<3.1.0,>=2.0.0 in /opt/conda/envs/fastai/lib/python3.7/site-packages (from ipython>=5.0.0->ipykernel->jupyter-server<0.2.0,>=0.1.0->Voila) (3.0.4)\n",
      "Requirement already satisfied: jedi>=0.10 in /opt/conda/envs/fastai/lib/python3.7/site-packages (from ipython>=5.0.0->ipykernel->jupyter-server<0.2.0,>=0.1.0->Voila) (0.16.0)\n",
      "Requirement already satisfied: backcall in /opt/conda/envs/fastai/lib/python3.7/site-packages (from ipython>=5.0.0->ipykernel->jupyter-server<0.2.0,>=0.1.0->Voila) (0.1.0)\n",
      "Requirement already satisfied: pickleshare in /opt/conda/envs/fastai/lib/python3.7/site-packages (from ipython>=5.0.0->ipykernel->jupyter-server<0.2.0,>=0.1.0->Voila) (0.7.5)\n",
      "Requirement already satisfied: zipp>=0.5 in /opt/conda/envs/fastai/lib/python3.7/site-packages (from importlib-metadata; python_version < \"3.8\"->jsonschema!=2.5.0,>=2.4->nbformat>=4.4->nbconvert<6,>=5.5.0->Voila) (3.1.0)\n",
      "Requirement already satisfied: ptyprocess>=0.5 in /opt/conda/envs/fastai/lib/python3.7/site-packages (from pexpect; sys_platform != \"win32\"->ipython>=5.0.0->ipykernel->jupyter-server<0.2.0,>=0.1.0->Voila) (0.6.0)\n",
      "Requirement already satisfied: wcwidth in /opt/conda/envs/fastai/lib/python3.7/site-packages (from prompt-toolkit!=3.0.0,!=3.0.1,<3.1.0,>=2.0.0->ipython>=5.0.0->ipykernel->jupyter-server<0.2.0,>=0.1.0->Voila) (0.1.8)\n",
      "Requirement already satisfied: parso>=0.5.2 in /opt/conda/envs/fastai/lib/python3.7/site-packages (from jedi>=0.10->ipython>=5.0.0->ipykernel->jupyter-server<0.2.0,>=0.1.0->Voila) (0.6.2)\n",
      "Requirement already satisfied: voila-debug in /opt/conda/envs/fastai/lib/python3.7/site-packages (0.0.1)\n",
      "Requirement already satisfied: voila<0.2,>=0.1.7 in /opt/conda/envs/fastai/lib/python3.7/site-packages (from voila-debug) (0.1.21)\n",
      "Requirement already satisfied: jupyterlab-pygments<0.2,>=0.1.0 in /opt/conda/envs/fastai/lib/python3.7/site-packages (from voila<0.2,>=0.1.7->voila-debug) (0.1.0)\n",
      "Requirement already satisfied: jupyter-server<0.2.0,>=0.1.0 in /opt/conda/envs/fastai/lib/python3.7/site-packages (from voila<0.2,>=0.1.7->voila-debug) (0.1.1)\n",
      "Requirement already satisfied: pygments<3,>=2.4.1 in /opt/conda/envs/fastai/lib/python3.7/site-packages (from voila<0.2,>=0.1.7->voila-debug) (2.6.1)\n",
      "Requirement already satisfied: nbconvert<6,>=5.5.0 in /opt/conda/envs/fastai/lib/python3.7/site-packages (from voila<0.2,>=0.1.7->voila-debug) (5.6.1)\n",
      "Requirement already satisfied: async-generator in /opt/conda/envs/fastai/lib/python3.7/site-packages (from voila<0.2,>=0.1.7->voila-debug) (1.10)\n",
      "Requirement already satisfied: nbformat in /opt/conda/envs/fastai/lib/python3.7/site-packages (from jupyter-server<0.2.0,>=0.1.0->voila<0.2,>=0.1.7->voila-debug) (5.0.4)\n",
      "Requirement already satisfied: ipython-genutils in /opt/conda/envs/fastai/lib/python3.7/site-packages (from jupyter-server<0.2.0,>=0.1.0->voila<0.2,>=0.1.7->voila-debug) (0.2.0)\n",
      "Requirement already satisfied: ipykernel in /opt/conda/envs/fastai/lib/python3.7/site-packages (from jupyter-server<0.2.0,>=0.1.0->voila<0.2,>=0.1.7->voila-debug) (5.1.4)\n",
      "Requirement already satisfied: Send2Trash in /opt/conda/envs/fastai/lib/python3.7/site-packages (from jupyter-server<0.2.0,>=0.1.0->voila<0.2,>=0.1.7->voila-debug) (1.5.0)\n",
      "Requirement already satisfied: prometheus-client in /opt/conda/envs/fastai/lib/python3.7/site-packages (from jupyter-server<0.2.0,>=0.1.0->voila<0.2,>=0.1.7->voila-debug) (0.7.1)\n",
      "Requirement already satisfied: jinja2 in /opt/conda/envs/fastai/lib/python3.7/site-packages (from jupyter-server<0.2.0,>=0.1.0->voila<0.2,>=0.1.7->voila-debug) (2.11.1)\n",
      "Requirement already satisfied: jupyter-client>=5.3.1 in /opt/conda/envs/fastai/lib/python3.7/site-packages (from jupyter-server<0.2.0,>=0.1.0->voila<0.2,>=0.1.7->voila-debug) (6.0.0)\n",
      "Requirement already satisfied: pyzmq>=17 in /opt/conda/envs/fastai/lib/python3.7/site-packages (from jupyter-server<0.2.0,>=0.1.0->voila<0.2,>=0.1.7->voila-debug) (19.0.0)\n",
      "Requirement already satisfied: terminado>=0.8.1 in /opt/conda/envs/fastai/lib/python3.7/site-packages (from jupyter-server<0.2.0,>=0.1.0->voila<0.2,>=0.1.7->voila-debug) (0.8.3)\n",
      "Requirement already satisfied: jupyter-core>=4.4.0 in /opt/conda/envs/fastai/lib/python3.7/site-packages (from jupyter-server<0.2.0,>=0.1.0->voila<0.2,>=0.1.7->voila-debug) (4.6.3)\n",
      "Requirement already satisfied: tornado>=4 in /opt/conda/envs/fastai/lib/python3.7/site-packages (from jupyter-server<0.2.0,>=0.1.0->voila<0.2,>=0.1.7->voila-debug) (6.0.4)\n",
      "Requirement already satisfied: traitlets>=4.2.1 in /opt/conda/envs/fastai/lib/python3.7/site-packages (from jupyter-server<0.2.0,>=0.1.0->voila<0.2,>=0.1.7->voila-debug) (4.3.3)\n",
      "Requirement already satisfied: mistune<2,>=0.8.1 in /opt/conda/envs/fastai/lib/python3.7/site-packages (from nbconvert<6,>=5.5.0->voila<0.2,>=0.1.7->voila-debug) (0.8.4)\n",
      "Requirement already satisfied: entrypoints>=0.2.2 in /opt/conda/envs/fastai/lib/python3.7/site-packages (from nbconvert<6,>=5.5.0->voila<0.2,>=0.1.7->voila-debug) (0.3)\n",
      "Requirement already satisfied: testpath in /opt/conda/envs/fastai/lib/python3.7/site-packages (from nbconvert<6,>=5.5.0->voila<0.2,>=0.1.7->voila-debug) (0.4.4)\n",
      "Requirement already satisfied: bleach in /opt/conda/envs/fastai/lib/python3.7/site-packages (from nbconvert<6,>=5.5.0->voila<0.2,>=0.1.7->voila-debug) (3.1.3)\n",
      "Requirement already satisfied: pandocfilters>=1.4.1 in /opt/conda/envs/fastai/lib/python3.7/site-packages (from nbconvert<6,>=5.5.0->voila<0.2,>=0.1.7->voila-debug) (1.4.2)\n",
      "Requirement already satisfied: defusedxml in /opt/conda/envs/fastai/lib/python3.7/site-packages (from nbconvert<6,>=5.5.0->voila<0.2,>=0.1.7->voila-debug) (0.6.0)\n",
      "Requirement already satisfied: jsonschema!=2.5.0,>=2.4 in /opt/conda/envs/fastai/lib/python3.7/site-packages (from nbformat->jupyter-server<0.2.0,>=0.1.0->voila<0.2,>=0.1.7->voila-debug) (3.2.0)\n",
      "Requirement already satisfied: ipython>=5.0.0 in /opt/conda/envs/fastai/lib/python3.7/site-packages (from ipykernel->jupyter-server<0.2.0,>=0.1.0->voila<0.2,>=0.1.7->voila-debug) (7.13.0)\n",
      "Requirement already satisfied: MarkupSafe>=0.23 in /opt/conda/envs/fastai/lib/python3.7/site-packages (from jinja2->jupyter-server<0.2.0,>=0.1.0->voila<0.2,>=0.1.7->voila-debug) (1.1.1)\n",
      "Requirement already satisfied: python-dateutil>=2.1 in /opt/conda/envs/fastai/lib/python3.7/site-packages (from jupyter-client>=5.3.1->jupyter-server<0.2.0,>=0.1.0->voila<0.2,>=0.1.7->voila-debug) (2.8.1)\n",
      "Requirement already satisfied: decorator in /opt/conda/envs/fastai/lib/python3.7/site-packages (from traitlets>=4.2.1->jupyter-server<0.2.0,>=0.1.0->voila<0.2,>=0.1.7->voila-debug) (4.4.2)\n",
      "Requirement already satisfied: six in /opt/conda/envs/fastai/lib/python3.7/site-packages (from traitlets>=4.2.1->jupyter-server<0.2.0,>=0.1.0->voila<0.2,>=0.1.7->voila-debug) (1.14.0)\n",
      "Requirement already satisfied: webencodings in /opt/conda/envs/fastai/lib/python3.7/site-packages (from bleach->nbconvert<6,>=5.5.0->voila<0.2,>=0.1.7->voila-debug) (0.5.1)\n",
      "Requirement already satisfied: attrs>=17.4.0 in /opt/conda/envs/fastai/lib/python3.7/site-packages (from jsonschema!=2.5.0,>=2.4->nbformat->jupyter-server<0.2.0,>=0.1.0->voila<0.2,>=0.1.7->voila-debug) (19.3.0)\n",
      "Requirement already satisfied: pyrsistent>=0.14.0 in /opt/conda/envs/fastai/lib/python3.7/site-packages (from jsonschema!=2.5.0,>=2.4->nbformat->jupyter-server<0.2.0,>=0.1.0->voila<0.2,>=0.1.7->voila-debug) (0.15.7)\n",
      "Requirement already satisfied: setuptools in /opt/conda/envs/fastai/lib/python3.7/site-packages (from jsonschema!=2.5.0,>=2.4->nbformat->jupyter-server<0.2.0,>=0.1.0->voila<0.2,>=0.1.7->voila-debug) (46.0.0.post20200311)\n",
      "Requirement already satisfied: importlib-metadata; python_version < \"3.8\" in /opt/conda/envs/fastai/lib/python3.7/site-packages (from jsonschema!=2.5.0,>=2.4->nbformat->jupyter-server<0.2.0,>=0.1.0->voila<0.2,>=0.1.7->voila-debug) (1.5.0)\n",
      "Requirement already satisfied: pickleshare in /opt/conda/envs/fastai/lib/python3.7/site-packages (from ipython>=5.0.0->ipykernel->jupyter-server<0.2.0,>=0.1.0->voila<0.2,>=0.1.7->voila-debug) (0.7.5)\n",
      "Requirement already satisfied: pexpect; sys_platform != \"win32\" in /opt/conda/envs/fastai/lib/python3.7/site-packages (from ipython>=5.0.0->ipykernel->jupyter-server<0.2.0,>=0.1.0->voila<0.2,>=0.1.7->voila-debug) (4.8.0)\n",
      "Requirement already satisfied: prompt-toolkit!=3.0.0,!=3.0.1,<3.1.0,>=2.0.0 in /opt/conda/envs/fastai/lib/python3.7/site-packages (from ipython>=5.0.0->ipykernel->jupyter-server<0.2.0,>=0.1.0->voila<0.2,>=0.1.7->voila-debug) (3.0.4)\n",
      "Requirement already satisfied: backcall in /opt/conda/envs/fastai/lib/python3.7/site-packages (from ipython>=5.0.0->ipykernel->jupyter-server<0.2.0,>=0.1.0->voila<0.2,>=0.1.7->voila-debug) (0.1.0)\n",
      "Requirement already satisfied: jedi>=0.10 in /opt/conda/envs/fastai/lib/python3.7/site-packages (from ipython>=5.0.0->ipykernel->jupyter-server<0.2.0,>=0.1.0->voila<0.2,>=0.1.7->voila-debug) (0.16.0)\n",
      "Requirement already satisfied: zipp>=0.5 in /opt/conda/envs/fastai/lib/python3.7/site-packages (from importlib-metadata; python_version < \"3.8\"->jsonschema!=2.5.0,>=2.4->nbformat->jupyter-server<0.2.0,>=0.1.0->voila<0.2,>=0.1.7->voila-debug) (3.1.0)\n",
      "Requirement already satisfied: ptyprocess>=0.5 in /opt/conda/envs/fastai/lib/python3.7/site-packages (from pexpect; sys_platform != \"win32\"->ipython>=5.0.0->ipykernel->jupyter-server<0.2.0,>=0.1.0->voila<0.2,>=0.1.7->voila-debug) (0.6.0)\n",
      "Requirement already satisfied: wcwidth in /opt/conda/envs/fastai/lib/python3.7/site-packages (from prompt-toolkit!=3.0.0,!=3.0.1,<3.1.0,>=2.0.0->ipython>=5.0.0->ipykernel->jupyter-server<0.2.0,>=0.1.0->voila<0.2,>=0.1.7->voila-debug) (0.1.8)\n",
      "Requirement already satisfied: parso>=0.5.2 in /opt/conda/envs/fastai/lib/python3.7/site-packages (from jedi>=0.10->ipython>=5.0.0->ipykernel->jupyter-server<0.2.0,>=0.1.0->voila<0.2,>=0.1.7->voila-debug) (0.6.2)\n"
     ]
    }
   ],
   "source": [
    "#hide\n",
    "#hide_output\n",
    "\n",
    "!pip install fastai2\n",
    "!pip install graphviz \n",
    "!pip install matplotlib\n",
    "!pip install nbdev>=0.2.12 \n",
    "!pip install pandas \n",
    "!pip install scikit_learn\n",
    "!pip install azure-cognitiveservices-search-imagesearch\n",
    "!pip install utils\n",
    "!pip install Pillow\n",
    "!pip install webp\n",
    "!pip install ipywidgets\n",
    "!pip install Voila>=2.4.1\n",
    "!pip install voila-debug\n",
    "!pip install voila-gridstack"
   ]
  },
  {
   "cell_type": "code",
   "execution_count": 6,
   "metadata": {},
   "outputs": [
    {
     "name": "stdout",
     "output_type": "stream",
     "text": [
      "Enabling: voila\n",
      "- Writing config: /opt/conda/envs/fastai/etc/jupyter\n",
      "    - Validating...\n",
      "      voila 0.1.21 \u001b[32mOK\u001b[0m\n"
     ]
    }
   ],
   "source": [
    "#hide\n",
    "!jupyter serverextension enable voila --sys-prefix\n"
   ]
  },
  {
   "cell_type": "code",
   "execution_count": 9,
   "metadata": {},
   "outputs": [
    {
     "name": "stdout",
     "output_type": "stream",
     "text": [
      "Enabling notebook extension jupyter-js-widgets/extension...\r\n",
      "      - Validating: \u001b[32mOK\u001b[0m\r\n"
     ]
    }
   ],
   "source": [
    "#hide\n",
    "!jupyter nbextension enable --py widgetsnbextension"
   ]
  },
  {
   "cell_type": "code",
   "execution_count": 10,
   "metadata": {},
   "outputs": [
    {
     "name": "stdout",
     "output_type": "stream",
     "text": [
      "fatal: destination path 'drive/My Drive/course-v4' already exists and is not an empty directory.\r\n"
     ]
    }
   ],
   "source": [
    "#hide_output\n",
    "!git clone https://github.com/fastai/course-v4 'drive/My Drive/course-v4'\n"
   ]
  },
  {
   "cell_type": "code",
   "execution_count": 11,
   "metadata": {},
   "outputs": [],
   "source": [
    "#hide\n",
    "from fastai2.vision.all import *\n",
    "from fastai2 import *\n",
    "from utils import *\n",
    "from fastai2.vision.widgets import *"
   ]
  },
  {
   "cell_type": "code",
   "execution_count": null,
   "metadata": {},
   "outputs": [],
   "source": [
    "#hide\n",
    "from nbdev.showdoc import *\n",
    "from ipywidgets import widgets\n",
    "from pandas.api.types import CategoricalDtype"
   ]
  },
  {
   "cell_type": "markdown",
   "metadata": {},
   "source": [
    "# Collecting data"
   ]
  },
  {
   "cell_type": "code",
   "execution_count": null,
   "metadata": {},
   "outputs": [],
   "source": [
    "#hide\n",
    "from azure.cognitiveservices.search.imagesearch import ImageSearchClient as api\n",
    "from msrest.authentication import CognitiveServicesCredentials as auth"
   ]
  },
  {
   "cell_type": "code",
   "execution_count": null,
   "metadata": {},
   "outputs": [],
   "source": [
    "#hide\n"
   ]
  },
  {
   "cell_type": "code",
   "execution_count": null,
   "metadata": {},
   "outputs": [],
   "source": [
    "#hide\n",
    "def search_images_bing(key, term, min_sz=128):\n",
    "    client = api('https://api.cognitive.microsoft.com', auth(key))\n",
    "    return L(client.images.search(query=term, count=150, min_height=min_sz, min_width=min_sz).value)"
   ]
  },
  {
   "cell_type": "code",
   "execution_count": null,
   "metadata": {},
   "outputs": [],
   "source": [
    "#hide\n",
    "results = search_images_bing(key, 'girls kids')\n",
    "ims = results.attrgot('content_url')\n",
    "len(ims)"
   ]
  },
  {
   "cell_type": "code",
   "execution_count": null,
   "metadata": {},
   "outputs": [],
   "source": [
    "#hide\n",
    "ims[0]\n"
   ]
  },
  {
   "cell_type": "code",
   "execution_count": null,
   "metadata": {},
   "outputs": [],
   "source": [
    "#hide\n",
    "kids= 'girl', 'boy'\n"
   ]
  },
  {
   "cell_type": "code",
   "execution_count": null,
   "metadata": {},
   "outputs": [],
   "source": [
    "#hide\n",
    "path = Path('media')\n",
    "if not path.exists():\n",
    "    path.mkdir()\n",
    "    for o in kids:\n",
    "        dest = (path/o)\n",
    "        dest.mkdir(exist_ok=True)\n",
    "        results = search_images_bing(key, f'{o} kids')\n",
    "        download_images(dest, urls=results.attrgot('content_url'))"
   ]
  },
  {
   "cell_type": "code",
   "execution_count": null,
   "metadata": {},
   "outputs": [],
   "source": [
    "#hide\n",
    "fns = get_image_files(path)\n",
    "fns"
   ]
  },
  {
   "cell_type": "code",
   "execution_count": null,
   "metadata": {},
   "outputs": [],
   "source": [
    "#hide\n",
    "from PIL import Image"
   ]
  },
  {
   "cell_type": "code",
   "execution_count": null,
   "metadata": {},
   "outputs": [],
   "source": [
    "#hide_output\n",
    "failed = verify_images(fns)\n",
    "failed"
   ]
  },
  {
   "cell_type": "code",
   "execution_count": null,
   "metadata": {},
   "outputs": [],
   "source": [
    "#hide\n",
    "failed.map(Path.unlink);\n"
   ]
  },
  {
   "cell_type": "markdown",
   "metadata": {},
   "source": [
    "# Showing the data and the labels"
   ]
  },
  {
   "cell_type": "code",
   "execution_count": null,
   "metadata": {},
   "outputs": [],
   "source": [
    "#hide\n",
    "media_data = DataBlock(\n",
    "    blocks = (ImageBlock, CategoryBlock),\n",
    "    get_items=get_image_files,\n",
    "    splitter=RandomSplitter(valid_pct=0.3, seed=42),\n",
    "    get_y=parent_label,\n",
    "    item_tfms=Resize(128))"
   ]
  },
  {
   "cell_type": "code",
   "execution_count": null,
   "metadata": {},
   "outputs": [],
   "source": [
    "#hide\n",
    "dls= media_data.dataloaders(path)\n"
   ]
  },
  {
   "cell_type": "code",
   "execution_count": null,
   "metadata": {},
   "outputs": [],
   "source": [
    "#hide_output\n",
    "dls.valid.show_batch(max_n=4, nrows=1)\n"
   ]
  },
  {
   "cell_type": "markdown",
   "metadata": {},
   "source": [
    "# Resizing the data"
   ]
  },
  {
   "cell_type": "code",
   "execution_count": null,
   "metadata": {},
   "outputs": [],
   "source": [
    "#hide_output\n",
    "media_data = media_data.new(\n",
    "    item_tfms=RandomResizedCrop(224, min_scale=0.5),\n",
    "    batch_tfms=aug_transforms())\n",
    "dls = media_data.dataloaders(path)\n",
    "dls.valid.show_batch(max_n=4, nrows=1)"
   ]
  },
  {
   "cell_type": "markdown",
   "metadata": {},
   "source": [
    "# Training "
   ]
  },
  {
   "cell_type": "code",
   "execution_count": null,
   "metadata": {},
   "outputs": [],
   "source": [
    "#hide_output\n",
    "learn= cnn_learner(dls, resnet18, metrics=error_rate)\n",
    "learn.fine_tune(4)\n"
   ]
  },
  {
   "cell_type": "code",
   "execution_count": null,
   "metadata": {},
   "outputs": [],
   "source": [
    "#hide_output\n",
    "interp = ClassificationInterpretation.from_learner(learn)\n",
    "interp.plot_confusion_matrix()"
   ]
  },
  {
   "cell_type": "code",
   "execution_count": null,
   "metadata": {},
   "outputs": [],
   "source": [
    "#hide_output\n",
    "interp.plot_top_losses(5, nrows=1)\n"
   ]
  },
  {
   "cell_type": "code",
   "execution_count": null,
   "metadata": {
    "scrolled": true
   },
   "outputs": [],
   "source": [
    "#hide\n",
    "cleaner = ImageClassifierCleaner(learn)\n",
    "cleaner"
   ]
  },
  {
   "cell_type": "code",
   "execution_count": null,
   "metadata": {},
   "outputs": [],
   "source": [
    "#hide\n",
    "for idx in cleaner.delete(): cleaner.fns[idx].unlink()\n"
   ]
  },
  {
   "cell_type": "code",
   "execution_count": null,
   "metadata": {},
   "outputs": [],
   "source": [
    "#hide\n",
    "learn.export()\n"
   ]
  },
  {
   "cell_type": "markdown",
   "metadata": {},
   "source": [
    "# Prediction"
   ]
  },
  {
   "cell_type": "code",
   "execution_count": null,
   "metadata": {},
   "outputs": [],
   "source": [
    "#hide_output\n",
    "path = Path()\n",
    "path.ls(file_exts='.pkl')"
   ]
  },
  {
   "cell_type": "code",
   "execution_count": null,
   "metadata": {},
   "outputs": [],
   "source": [
    "#hide\n",
    "learn_inf = load_learner(path/'export.pkl', cpu=True)\n"
   ]
  },
  {
   "cell_type": "code",
   "execution_count": null,
   "metadata": {},
   "outputs": [],
   "source": [
    "#hide_output\n",
    "learn_inf.dls.vocab\n"
   ]
  },
  {
   "cell_type": "code",
   "execution_count": null,
   "metadata": {},
   "outputs": [],
   "source": [
    "#hide\n",
    "from IPython.display import display\n"
   ]
  },
  {
   "cell_type": "code",
   "execution_count": null,
   "metadata": {},
   "outputs": [],
   "source": [
    "lbl_pred = widgets.Label()\n",
    "out_pl = widgets.Output()\n"
   ]
  },
  {
   "cell_type": "code",
   "execution_count": null,
   "metadata": {},
   "outputs": [],
   "source": [
    "btn_run = widgets.Button(description='Classify')\n"
   ]
  },
  {
   "cell_type": "code",
   "execution_count": null,
   "metadata": {},
   "outputs": [],
   "source": [
    "def on_click_classify(change):\n",
    "    img = PILImage.create(btn_upload.data[-1])\n",
    "    out_pl.clear_output()\n",
    "    with out_pl: display(img.to_thumb(128,128))\n",
    "    pred,pred_idx,probs = learn_inf.predict(img)\n",
    "    lbl_pred.value = f'Prediction: {pred}; Probability: {probs[pred_idx]:.04f}'\n",
    "\n",
    "btn_run.on_click(on_click_classify)"
   ]
  },
  {
   "cell_type": "code",
   "execution_count": null,
   "metadata": {},
   "outputs": [],
   "source": [
    "btn_upload = widgets.FileUpload()\n"
   ]
  },
  {
   "cell_type": "code",
   "execution_count": null,
   "metadata": {},
   "outputs": [],
   "source": [
    "display(VBox([widgets.Label('Am I represented?'), \n",
    "      btn_upload, btn_run, out_pl, lbl_pred]))"
   ]
  },
  {
   "cell_type": "code",
   "execution_count": 15,
   "metadata": {},
   "outputs": [],
   "source": [
    "# Fixing the model "
   ]
  }
 ],
 "metadata": {
  "kernelspec": {
   "display_name": "Python 3",
   "language": "python",
   "name": "python3"
  },
  "language_info": {
   "codemirror_mode": {
    "name": "ipython",
    "version": 3
   },
   "file_extension": ".py",
   "mimetype": "text/x-python",
   "name": "python",
   "nbconvert_exporter": "python",
   "pygments_lexer": "ipython3",
   "version": "3.7.6"
  }
 },
 "nbformat": 4,
 "nbformat_minor": 4
}
